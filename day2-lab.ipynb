{
 "cells": [
  {
   "cell_type": "code",
   "execution_count": 1,
   "id": "72580927-a281-41a9-8d3c-39530eeece5b",
   "metadata": {},
   "outputs": [],
   "source": [
    "\n",
    "import pandas as pd\n",
    "\n",
    "file1 = pd.read_csv('https://raw.githubusercontent.com/data-bootcamp-v4/data/main/file1.csv')\n"
   ]
  },
  {
   "cell_type": "code",
   "execution_count": 5,
   "id": "2dec9aa0-0952-406a-b91a-85277bc333e0",
   "metadata": {},
   "outputs": [
    {
     "data": {
      "text/plain": [
       "(4008, 11)"
      ]
     },
     "execution_count": 5,
     "metadata": {},
     "output_type": "execute_result"
    }
   ],
   "source": [
    "column_names = file1.columns\n",
    "file1.shape"
   ]
  },
  {
   "cell_type": "code",
   "execution_count": 8,
   "id": "11c3e381-fa2e-448d-b2bb-18b9b0ae2c4e",
   "metadata": {},
   "outputs": [
    {
     "data": {
      "text/plain": [
       "Customer                      object\n",
       "ST                            object\n",
       "GENDER                        object\n",
       "Education                     object\n",
       "Customer Lifetime Value       object\n",
       "Income                       float64\n",
       "Monthly Premium Auto         float64\n",
       "Number of Open Complaints     object\n",
       "Policy Type                   object\n",
       "Vehicle Class                 object\n",
       "Total Claim Amount           float64\n",
       "dtype: object"
      ]
     },
     "execution_count": 8,
     "metadata": {},
     "output_type": "execute_result"
    }
   ],
   "source": [
    "file1.dtypes"
   ]
  },
  {
   "cell_type": "code",
   "execution_count": 9,
   "id": "39a96fd7-1473-4007-b2cc-2cc11f90256f",
   "metadata": {
    "scrolled": true
   },
   "outputs": [
    {
     "data": {
      "text/html": [
       "<div>\n",
       "<style scoped>\n",
       "    .dataframe tbody tr th:only-of-type {\n",
       "        vertical-align: middle;\n",
       "    }\n",
       "\n",
       "    .dataframe tbody tr th {\n",
       "        vertical-align: top;\n",
       "    }\n",
       "\n",
       "    .dataframe thead th {\n",
       "        text-align: right;\n",
       "    }\n",
       "</style>\n",
       "<table border=\"1\" class=\"dataframe\">\n",
       "  <thead>\n",
       "    <tr style=\"text-align: right;\">\n",
       "      <th></th>\n",
       "      <th>Customer</th>\n",
       "      <th>ST</th>\n",
       "      <th>GENDER</th>\n",
       "      <th>Education</th>\n",
       "      <th>Customer Lifetime Value</th>\n",
       "      <th>Income</th>\n",
       "      <th>Monthly Premium Auto</th>\n",
       "      <th>Number of Open Complaints</th>\n",
       "      <th>Policy Type</th>\n",
       "      <th>Vehicle Class</th>\n",
       "      <th>Total Claim Amount</th>\n",
       "    </tr>\n",
       "  </thead>\n",
       "  <tbody>\n",
       "    <tr>\n",
       "      <th>0</th>\n",
       "      <td>RB50392</td>\n",
       "      <td>Washington</td>\n",
       "      <td>NaN</td>\n",
       "      <td>Master</td>\n",
       "      <td>NaN</td>\n",
       "      <td>0.0</td>\n",
       "      <td>1000.0</td>\n",
       "      <td>1/0/00</td>\n",
       "      <td>Personal Auto</td>\n",
       "      <td>Four-Door Car</td>\n",
       "      <td>2.704934</td>\n",
       "    </tr>\n",
       "    <tr>\n",
       "      <th>1</th>\n",
       "      <td>QZ44356</td>\n",
       "      <td>Arizona</td>\n",
       "      <td>F</td>\n",
       "      <td>Bachelor</td>\n",
       "      <td>697953.59%</td>\n",
       "      <td>0.0</td>\n",
       "      <td>94.0</td>\n",
       "      <td>1/0/00</td>\n",
       "      <td>Personal Auto</td>\n",
       "      <td>Four-Door Car</td>\n",
       "      <td>1131.464935</td>\n",
       "    </tr>\n",
       "    <tr>\n",
       "      <th>2</th>\n",
       "      <td>AI49188</td>\n",
       "      <td>Nevada</td>\n",
       "      <td>F</td>\n",
       "      <td>Bachelor</td>\n",
       "      <td>1288743.17%</td>\n",
       "      <td>48767.0</td>\n",
       "      <td>108.0</td>\n",
       "      <td>1/0/00</td>\n",
       "      <td>Personal Auto</td>\n",
       "      <td>Two-Door Car</td>\n",
       "      <td>566.472247</td>\n",
       "    </tr>\n",
       "    <tr>\n",
       "      <th>3</th>\n",
       "      <td>WW63253</td>\n",
       "      <td>California</td>\n",
       "      <td>M</td>\n",
       "      <td>Bachelor</td>\n",
       "      <td>764586.18%</td>\n",
       "      <td>0.0</td>\n",
       "      <td>106.0</td>\n",
       "      <td>1/0/00</td>\n",
       "      <td>Corporate Auto</td>\n",
       "      <td>SUV</td>\n",
       "      <td>529.881344</td>\n",
       "    </tr>\n",
       "    <tr>\n",
       "      <th>4</th>\n",
       "      <td>GA49547</td>\n",
       "      <td>Washington</td>\n",
       "      <td>M</td>\n",
       "      <td>High School or Below</td>\n",
       "      <td>536307.65%</td>\n",
       "      <td>36357.0</td>\n",
       "      <td>68.0</td>\n",
       "      <td>1/0/00</td>\n",
       "      <td>Personal Auto</td>\n",
       "      <td>Four-Door Car</td>\n",
       "      <td>17.269323</td>\n",
       "    </tr>\n",
       "    <tr>\n",
       "      <th>...</th>\n",
       "      <td>...</td>\n",
       "      <td>...</td>\n",
       "      <td>...</td>\n",
       "      <td>...</td>\n",
       "      <td>...</td>\n",
       "      <td>...</td>\n",
       "      <td>...</td>\n",
       "      <td>...</td>\n",
       "      <td>...</td>\n",
       "      <td>...</td>\n",
       "      <td>...</td>\n",
       "    </tr>\n",
       "    <tr>\n",
       "      <th>4003</th>\n",
       "      <td>NaN</td>\n",
       "      <td>NaN</td>\n",
       "      <td>NaN</td>\n",
       "      <td>NaN</td>\n",
       "      <td>NaN</td>\n",
       "      <td>NaN</td>\n",
       "      <td>NaN</td>\n",
       "      <td>NaN</td>\n",
       "      <td>NaN</td>\n",
       "      <td>NaN</td>\n",
       "      <td>NaN</td>\n",
       "    </tr>\n",
       "    <tr>\n",
       "      <th>4004</th>\n",
       "      <td>NaN</td>\n",
       "      <td>NaN</td>\n",
       "      <td>NaN</td>\n",
       "      <td>NaN</td>\n",
       "      <td>NaN</td>\n",
       "      <td>NaN</td>\n",
       "      <td>NaN</td>\n",
       "      <td>NaN</td>\n",
       "      <td>NaN</td>\n",
       "      <td>NaN</td>\n",
       "      <td>NaN</td>\n",
       "    </tr>\n",
       "    <tr>\n",
       "      <th>4005</th>\n",
       "      <td>NaN</td>\n",
       "      <td>NaN</td>\n",
       "      <td>NaN</td>\n",
       "      <td>NaN</td>\n",
       "      <td>NaN</td>\n",
       "      <td>NaN</td>\n",
       "      <td>NaN</td>\n",
       "      <td>NaN</td>\n",
       "      <td>NaN</td>\n",
       "      <td>NaN</td>\n",
       "      <td>NaN</td>\n",
       "    </tr>\n",
       "    <tr>\n",
       "      <th>4006</th>\n",
       "      <td>NaN</td>\n",
       "      <td>NaN</td>\n",
       "      <td>NaN</td>\n",
       "      <td>NaN</td>\n",
       "      <td>NaN</td>\n",
       "      <td>NaN</td>\n",
       "      <td>NaN</td>\n",
       "      <td>NaN</td>\n",
       "      <td>NaN</td>\n",
       "      <td>NaN</td>\n",
       "      <td>NaN</td>\n",
       "    </tr>\n",
       "    <tr>\n",
       "      <th>4007</th>\n",
       "      <td>NaN</td>\n",
       "      <td>NaN</td>\n",
       "      <td>NaN</td>\n",
       "      <td>NaN</td>\n",
       "      <td>NaN</td>\n",
       "      <td>NaN</td>\n",
       "      <td>NaN</td>\n",
       "      <td>NaN</td>\n",
       "      <td>NaN</td>\n",
       "      <td>NaN</td>\n",
       "      <td>NaN</td>\n",
       "    </tr>\n",
       "  </tbody>\n",
       "</table>\n",
       "<p>4008 rows × 11 columns</p>\n",
       "</div>"
      ],
      "text/plain": [
       "     Customer          ST GENDER             Education  \\\n",
       "0     RB50392  Washington    NaN                Master   \n",
       "1     QZ44356     Arizona      F              Bachelor   \n",
       "2     AI49188      Nevada      F              Bachelor   \n",
       "3     WW63253  California      M              Bachelor   \n",
       "4     GA49547  Washington      M  High School or Below   \n",
       "...       ...         ...    ...                   ...   \n",
       "4003      NaN         NaN    NaN                   NaN   \n",
       "4004      NaN         NaN    NaN                   NaN   \n",
       "4005      NaN         NaN    NaN                   NaN   \n",
       "4006      NaN         NaN    NaN                   NaN   \n",
       "4007      NaN         NaN    NaN                   NaN   \n",
       "\n",
       "     Customer Lifetime Value   Income  Monthly Premium Auto  \\\n",
       "0                        NaN      0.0                1000.0   \n",
       "1                 697953.59%      0.0                  94.0   \n",
       "2                1288743.17%  48767.0                 108.0   \n",
       "3                 764586.18%      0.0                 106.0   \n",
       "4                 536307.65%  36357.0                  68.0   \n",
       "...                      ...      ...                   ...   \n",
       "4003                     NaN      NaN                   NaN   \n",
       "4004                     NaN      NaN                   NaN   \n",
       "4005                     NaN      NaN                   NaN   \n",
       "4006                     NaN      NaN                   NaN   \n",
       "4007                     NaN      NaN                   NaN   \n",
       "\n",
       "     Number of Open Complaints     Policy Type  Vehicle Class  \\\n",
       "0                       1/0/00   Personal Auto  Four-Door Car   \n",
       "1                       1/0/00   Personal Auto  Four-Door Car   \n",
       "2                       1/0/00   Personal Auto   Two-Door Car   \n",
       "3                       1/0/00  Corporate Auto            SUV   \n",
       "4                       1/0/00   Personal Auto  Four-Door Car   \n",
       "...                        ...             ...            ...   \n",
       "4003                       NaN             NaN            NaN   \n",
       "4004                       NaN             NaN            NaN   \n",
       "4005                       NaN             NaN            NaN   \n",
       "4006                       NaN             NaN            NaN   \n",
       "4007                       NaN             NaN            NaN   \n",
       "\n",
       "      Total Claim Amount  \n",
       "0               2.704934  \n",
       "1            1131.464935  \n",
       "2             566.472247  \n",
       "3             529.881344  \n",
       "4              17.269323  \n",
       "...                  ...  \n",
       "4003                 NaN  \n",
       "4004                 NaN  \n",
       "4005                 NaN  \n",
       "4006                 NaN  \n",
       "4007                 NaN  \n",
       "\n",
       "[4008 rows x 11 columns]"
      ]
     },
     "execution_count": 9,
     "metadata": {},
     "output_type": "execute_result"
    }
   ],
   "source": [
    "file1"
   ]
  },
  {
   "cell_type": "code",
   "execution_count": 34,
   "id": "76eb2b6e-336b-4a37-a362-1ce27dda8f97",
   "metadata": {},
   "outputs": [
    {
     "name": "stdout",
     "output_type": "stream",
     "text": [
      "customer                      object\n",
      "st                            object\n",
      "gender                        object\n",
      "education                     object\n",
      "customer lifetime value       object\n",
      "income                       float64\n",
      "monthly premium auto         float64\n",
      "number of open complaints    float64\n",
      "policy type                   object\n",
      "vehicle class                 object\n",
      "total claim amount           float64\n",
      "dtype: object\n"
     ]
    }
   ],
   "source": [
    "file1['number of open complaints'] = pd.to_numeric(file1['number of open complaints'], errors='coerce')\n",
    "file1['number of open complaints'] = file1['number of open complaints'].astype(float)\n",
    "print(file1.dtypes)"
   ]
  },
  {
   "cell_type": "code",
   "execution_count": null,
   "id": "d74161a6-901c-4057-997d-11b86f4fd491",
   "metadata": {},
   "outputs": [],
   "source": [
    "# Customer Lifetime Value should be numeric: remove the %\n",
    "# Number of Open Complaints should be numeric: Understand this variable, remove the / and transform it to a numeric number"
   ]
  },
  {
   "cell_type": "code",
   "execution_count": 10,
   "id": "751ec271-9d4f-402f-88c6-842b9774cfbc",
   "metadata": {},
   "outputs": [
    {
     "data": {
      "text/plain": [
       "Customer                     1071\n",
       "ST                              8\n",
       "GENDER                          5\n",
       "Education                       6\n",
       "Customer Lifetime Value      1027\n",
       "Income                        774\n",
       "Monthly Premium Auto          132\n",
       "Number of Open Complaints       6\n",
       "Policy Type                     3\n",
       "Vehicle Class                   6\n",
       "Total Claim Amount            761\n",
       "dtype: int64"
      ]
     },
     "execution_count": 10,
     "metadata": {},
     "output_type": "execute_result"
    }
   ],
   "source": [
    "file1.nunique()"
   ]
  },
  {
   "cell_type": "code",
   "execution_count": 44,
   "id": "63ac52c2-3717-4211-8442-1b00e1cb7f93",
   "metadata": {},
   "outputs": [
    {
     "name": "stdout",
     "output_type": "stream",
     "text": [
      "Unique values for column 'st': ['Washington' 'Arizona' 'Nevada' 'California' 'Oregon' 'Cali' 'AZ' 'WA'\n",
      " nan]\n",
      "Unique values for column 'gender': [nan 'F' 'M' 'Femal' 'Male' 'female']\n",
      "Unique values for column 'education': ['Master' 'Bachelor' 'High School or Below' 'College' 'Bachelors' 'Doctor'\n",
      " nan]\n",
      "Unique values for column 'policy type': ['Personal Auto' 'Corporate Auto' 'Special Auto' nan]\n",
      "Unique values for column 'vehicle class': ['Four-Door Car' 'Two-Door Car' 'SUV' 'Luxury SUV' 'Sports Car'\n",
      " 'Luxury Car' nan]\n",
      "Range of values for column 'income': 0.0 to 99960.0\n",
      "Range of values for column 'monthly premium auto': 61.0 to 35354.0\n",
      "Range of values for column 'total claim amount': 0.382107 to 2893.239678\n"
     ]
    }
   ],
   "source": [
    "#columns appear to be categorical: ST Gender Education Policy type Vehicle Class\n",
    "cols = []\n",
    "for colname in file1.columns:\n",
    "    cols.append(colname.lower())\n",
    "file1.columns = cols\n",
    "\n",
    "column_categorical=[\"st\", \"gender\", \"education\", \"policy type\", \"vehicle class\"]\n",
    "column_numerical=[\"income\", \"monthly premium auto\", \"total claim amount\"]\n",
    "for col in column_categorical:\n",
    "    unique_values = file1[col].unique()\n",
    "    print(f\"Unique values for column '{col}': {unique_values}\")\n",
    "for col in column_numerical:\n",
    "    min_value = file1[col].min()\n",
    "    max_value = file1[col].max()\n",
    "    print(f\"Range of values for column '{col}': {min_value} to {max_value}\")"
   ]
  },
  {
   "cell_type": "code",
   "execution_count": null,
   "id": "0352001c-622f-40e2-930e-7f03a4fa3a56",
   "metadata": {},
   "outputs": [],
   "source": [
    "# all categorical values have missing values. For st, gender, policy type and vehicle class are nominal values. while education is \n",
    "# an ordinal value. The variable gender need to be more prepared to correct typos & (M with Male) & (F with Female)."
   ]
  },
  {
   "cell_type": "code",
   "execution_count": 45,
   "id": "2fee1772-5813-4fe9-981e-717a3db1fef7",
   "metadata": {},
   "outputs": [
    {
     "name": "stdout",
     "output_type": "stream",
     "text": [
      "Summary statistics for 'income':\n",
      "count     1071.000000\n",
      "mean     39295.701214\n",
      "std      30469.427060\n",
      "min          0.000000\n",
      "25%      14072.000000\n",
      "50%      36234.000000\n",
      "75%      64631.000000\n",
      "max      99960.000000\n",
      "Name: income, dtype: float64\n",
      "Summary statistics for 'monthly premium auto':\n",
      "count     1071.000000\n",
      "mean       193.234360\n",
      "std       1601.190369\n",
      "min         61.000000\n",
      "25%         68.000000\n",
      "50%         83.000000\n",
      "75%        109.500000\n",
      "max      35354.000000\n",
      "Name: monthly premium auto, dtype: float64\n",
      "Summary statistics for 'total claim amount':\n",
      "count    1071.000000\n",
      "mean      404.986909\n",
      "std       293.027260\n",
      "min         0.382107\n",
      "25%       202.157702\n",
      "50%       354.729129\n",
      "75%       532.800000\n",
      "max      2893.239678\n",
      "Name: total claim amount, dtype: float64\n"
     ]
    }
   ],
   "source": [
    "for col in  column_numerical:\n",
    "    print(f\"Summary statistics for '{col}':\")\n",
    "    print(file1[col].describe())"
   ]
  },
  {
   "cell_type": "code",
   "execution_count": null,
   "id": "0542259c-c455-4a7b-a877-e8e7d226e452",
   "metadata": {},
   "outputs": [],
   "source": [
    "#the mean of income is 39295.701214 and for monthly premium auto is 193.234360..etc."
   ]
  },
  {
   "cell_type": "code",
   "execution_count": 46,
   "id": "053ebbc3-4afd-47ce-96ce-d42ffb096ae6",
   "metadata": {},
   "outputs": [
    {
     "name": "stdout",
     "output_type": "stream",
     "text": [
      "for'income' the mean, mode, and median are as follows: 39295.70121381886, 0    0.0\n",
      "Name: income, dtype: float64, 36234.0\n",
      "for'monthly premium auto' the mean, mode, and median are as follows: 193.234360410831, 0    65.0\n",
      "Name: monthly premium auto, dtype: float64, 83.0\n",
      "for'total claim amount' the mean, mode, and median are as follows: 404.98690940896364, 0    321.6\n",
      "Name: total claim amount, dtype: float64, 354.729129\n"
     ]
    }
   ],
   "source": [
    "for col in  column_numerical:\n",
    "    mean = file1[col].mean()\n",
    "    mode = file1[col].mode()\n",
    "    median = file1[col].median()\n",
    "    print(f\"for'{col}' the mean, mode, and median are as follows: {mean}, {mode}, {median}\")"
   ]
  },
  {
   "cell_type": "code",
   "execution_count": 47,
   "id": "b4173c24-28a9-45ce-b7c3-5db39c703d9d",
   "metadata": {},
   "outputs": [
    {
     "name": "stdout",
     "output_type": "stream",
     "text": [
      "Summary statistics for 'st':\n",
      "count       1071\n",
      "unique         8\n",
      "top       Oregon\n",
      "freq         320\n",
      "Name: st, dtype: object\n",
      "Summary statistics for 'gender':\n",
      "count     954\n",
      "unique      5\n",
      "top         F\n",
      "freq      457\n",
      "Name: gender, dtype: object\n",
      "Summary statistics for 'education':\n",
      "count         1071\n",
      "unique           6\n",
      "top       Bachelor\n",
      "freq           324\n",
      "Name: education, dtype: object\n",
      "Summary statistics for 'policy type':\n",
      "count              1071\n",
      "unique                3\n",
      "top       Personal Auto\n",
      "freq                780\n",
      "Name: policy type, dtype: object\n",
      "Summary statistics for 'vehicle class':\n",
      "count              1071\n",
      "unique                6\n",
      "top       Four-Door Car\n",
      "freq                576\n",
      "Name: vehicle class, dtype: object\n"
     ]
    }
   ],
   "source": [
    "for col in  column_categorical:\n",
    "    print(f\"Summary statistics for '{col}':\")\n",
    "    print(file1[col].describe())"
   ]
  },
  {
   "cell_type": "code",
   "execution_count": 54,
   "id": "7666b5e6-34e9-4450-b7fb-599115c3c3d1",
   "metadata": {},
   "outputs": [
    {
     "data": {
      "text/plain": [
       "array(['Washington', 'Arizona', 'Nevada', 'California', 'Oregon', 'Cali',\n",
       "       'AZ', 'WA', nan], dtype=object)"
      ]
     },
     "execution_count": 54,
     "metadata": {},
     "output_type": "execute_result"
    }
   ],
   "source": [
    "file1[\"st\"].unique()"
   ]
  },
  {
   "cell_type": "code",
   "execution_count": 70,
   "id": "d86820d1-76e0-4980-be10-90d844553bea",
   "metadata": {},
   "outputs": [
    {
     "data": {
      "text/plain": [
       "st\n",
       "Oregon        320\n",
       "California    211\n",
       "Arizona       186\n",
       "Cali          120\n",
       "Nevada         98\n",
       "Washington     81\n",
       "WA             30\n",
       "AZ             25\n",
       "Name: count, dtype: int64"
      ]
     },
     "execution_count": 70,
     "metadata": {},
     "output_type": "execute_result"
    }
   ],
   "source": [
    "file1['st'].value_counts()"
   ]
  },
  {
   "cell_type": "code",
   "execution_count": 72,
   "id": "c641c3c3-28e9-4bd0-9a69-6b0d6314b32b",
   "metadata": {},
   "outputs": [
    {
     "name": "stdout",
     "output_type": "stream",
     "text": [
      "Top 5 Less Common Customer Locations (in ascending order):\n",
      "st\n",
      "Cali          120\n",
      "Nevada         98\n",
      "Washington     81\n",
      "WA             30\n",
      "AZ             25\n",
      "Name: count, dtype: int64\n"
     ]
    }
   ],
   "source": [
    "# Retrieve the top 5 less common locations\n",
    "top_5_less_common_locations = file1['st'].value_counts().tail(5)\n",
    "\n",
    "print(\"Top 5 Less Common Customer Locations (in ascending order):\")\n",
    "print(top_5_less_common_locations)"
   ]
  },
  {
   "cell_type": "code",
   "execution_count": 73,
   "id": "f7541ba9-82d3-436e-9536-588fa666268b",
   "metadata": {},
   "outputs": [
    {
     "data": {
      "text/plain": [
       "policy type\n",
       "Personal Auto     780\n",
       "Corporate Auto    234\n",
       "Special Auto       57\n",
       "Name: count, dtype: int64"
      ]
     },
     "execution_count": 73,
     "metadata": {},
     "output_type": "execute_result"
    }
   ],
   "source": [
    "file1[\"policy type\"].unique()\n",
    "file1[\"policy type\"].value_counts()"
   ]
  },
  {
   "cell_type": "code",
   "execution_count": 77,
   "id": "1ae8ff40-7d10-4e64-b909-dcdd7aecb49a",
   "metadata": {},
   "outputs": [
    {
     "name": "stdout",
     "output_type": "stream",
     "text": [
      "Policy type with the highest number of policies sold is: policy type\n",
      "Personal Auto    780\n",
      "Name: count, dtype: int64\n"
     ]
    }
   ],
   "source": [
    "# Retrieve the top 5 less common locations\n",
    "top_1_policy = file1['policy type'].value_counts().head(1)\n",
    "print(\"Policy type with the highest number of policies sold is:\", top_1_policy)"
   ]
  },
  {
   "cell_type": "code",
   "execution_count": 78,
   "id": "5cab11e0-11cf-4f25-be37-f7dd096aa918",
   "metadata": {},
   "outputs": [
    {
     "name": "stdout",
     "output_type": "stream",
     "text": [
      "Average income for Personal Auto policies: 38180.69871794872\n",
      "Average income for Corporate Auto policies: 41390.31196581197\n"
     ]
    }
   ],
   "source": [
    "# Create two DataFrames: one for Personal Auto policies and one for Corporate Auto policies\n",
    "personal_auto_file1 = file1.loc[file1['policy type'] == 'Personal Auto']\n",
    "corporate_auto_file1 = file1.loc[file1['policy type'] == 'Corporate Auto']\n",
    "\n",
    "# Calculate the average income for each policy type\n",
    "average_income_personal_auto = personal_auto_file1['income'].mean()\n",
    "average_income_corporate_auto = corporate_auto_file1['income'].mean()\n",
    "\n",
    "# Print the results\n",
    "print(\"Average income for Personal Auto policies:\", average_income_personal_auto)\n",
    "print(\"Average income for Corporate Auto policies:\", average_income_corporate_auto)\n"
   ]
  },
  {
   "cell_type": "code",
   "execution_count": null,
   "id": "3a3eaeb9-d1c4-4fd0-9284-4ffc4d452856",
   "metadata": {},
   "outputs": [],
   "source": [
    "#Yes, the average income of Personal Auto policies is lower than the Average income for Corporate Auto policies!"
   ]
  }
 ],
 "metadata": {
  "kernelspec": {
   "display_name": "Python 3 (ipykernel)",
   "language": "python",
   "name": "python3"
  },
  "language_info": {
   "codemirror_mode": {
    "name": "ipython",
    "version": 3
   },
   "file_extension": ".py",
   "mimetype": "text/x-python",
   "name": "python",
   "nbconvert_exporter": "python",
   "pygments_lexer": "ipython3",
   "version": "3.11.7"
  }
 },
 "nbformat": 4,
 "nbformat_minor": 5
}
